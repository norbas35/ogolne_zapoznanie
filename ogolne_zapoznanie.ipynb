{
 "cells": [
  {
   "cell_type": "code",
   "execution_count": 4,
   "id": "65791010-181a-49c2-891d-5f1ec13e319e",
   "metadata": {},
   "outputs": [
    {
     "name": "stdout",
     "output_type": "stream",
     "text": [
      "67.22 %,  KE140774.1\n"
     ]
    }
   ],
   "source": [
    "#program drukujący nazwę sekwencji o największej procentowej zawartości par GC, oraz tą liczbę\n",
    "from Bio import SeqIO\n",
    "max_sequence_id = None\n",
    "max_gc_content = 0\n",
    "\n",
    "for seq_record in SeqIO.parse(\"GCA_000006565.2_TGA4_genomic.fna\", \"fasta\"):\n",
    "    sequence = str(seq_record.seq) #tworzymy stringa dla kompatybilności z podstawowymi pakietami Pythona\n",
    "    sequence_id = seq_record.id\n",
    "    gc_content = (sequence.count(\"C\") + sequence.count(\"G\")) / len(sequence) * 100\n",
    "    if gc_content > max_gc_content:\n",
    "        max_gc_content = gc_content\n",
    "        max_sequence_id = sequence_id\n",
    "\n",
    "print(round(max_gc_content, 2), \"%, \", max_sequence_id)\n",
    "\n"
   ]
  },
  {
   "cell_type": "code",
   "execution_count": 8,
   "id": "4991152f-3fa8-40af-80d6-d2f6994d762a",
   "metadata": {},
   "outputs": [
    {
     "name": "stdout",
     "output_type": "stream",
     "text": [
      "ID: KE138930.1\n",
      "Name: KE138930.1\n",
      "Description: KE138930.1 Toxoplasma gondii ME49 unplaced genomic scaffold asmbl.148, whole genome shotgun sequence\n",
      "Number of features: 0\n",
      "Seq('ggtcgatagaataaggtagataagggaagtcggcaaaatagatccgtaacttcg...CCG')\n",
      "A teraz łatwiejsza metoda obliczenia procentowej zawartości par GC w sekwencji:  48.46\n"
     ]
    }
   ],
   "source": [
    "from Bio import SeqIO\n",
    "sequences_list = []\n",
    "for sequence in SeqIO.parse(\"GCA_000006565.2_TGA4_genomic.fna\", \"fasta\"):\n",
    "    sequences_list.append(sequence) #stworzyliśmy listę, która zawiera sekwencje z naszego genomu\n",
    "\n",
    "print(sequences_list[100])\n",
    "\n",
    "sequences_list[-1].count(\"A\") #zliczamy ile razy w sekwencji ostatniej pojawiła się adenozyna\n",
    "\n",
    "from Bio.SeqUtils import GC\n",
    "GC(sequences_list[0]) #funkcja obliczająca zawartość procentową par zasad GC\n",
    "print(\"A teraz łatwiejsza metoda obliczenia procentowej zawartości par GC w sekwencji: \", round(GC(sequences_list[100]), 2))\n"
   ]
  },
  {
   "cell_type": "code",
   "execution_count": 10,
   "id": "b5362e91-c373-43c5-a80b-a65157488132",
   "metadata": {},
   "outputs": [
    {
     "name": "stdout",
     "output_type": "stream",
     "text": [
      "ID: KE139002.1\n",
      "Name: KE139002.1\n",
      "Description: KE139002.1 Toxoplasma gondii ME49 unplaced genomic scaffold asmbl.303, whole genome shotgun sequence\n",
      "Number of features: 0\n",
      "Seq('TGTCACCGGTACACAAATGCGGAGTAGAAATGCCGACACCCGGAAAACGCGCgg...att')\n",
      "\n",
      "\n",
      "ID: <unknown id>\n",
      "Name: <unknown name>\n",
      "Description: <unknown description>\n",
      "Number of features: 0\n",
      "Seq('aatgtctgttatatcgtgcactgatcagtcatctggcgcacgatattacttctg...ACA')\n",
      "\n",
      "\n",
      "ID: <unknown id>\n",
      "Name: <unknown name>\n",
      "Description: <unknown description>\n",
      "Number of features: 0\n",
      "/molecule_type=protein\n",
      "Seq('CHRYTNAE*KCRHPENAREQMRSVTPRCAGPLNTTRFCGGGDAFGKLV*Y*NVY...TDI')\n",
      "\n",
      "\n",
      "\n",
      "\n",
      "KE139002.1 \n",
      " KE139002.1 Toxoplasma gondii ME49 unplaced genomic scaffold asmbl.303, whole genome shotgun sequence \n",
      " TGTCACCGGTACACAAATGCGGAGTAGAAATGCCGACACCCGGAAAACGCGCgggagcaaatgcggagtgtgACGCCACGCTGTGCAGGCCCCTTGAACACAACTCGCTTTTGCGGGGGCGGCGACGCGTTTGGGAAACTCGTATAATATTAAAACGTGTattctgaagaaagcctcgcagaaaagaagcttttactaccgccttgggcggggagacgcagccatGTTGTTTTACAACAGTCATGGTGGGTCGTACACGTCCCCAGCAACATGTGAGGAATGTGACGCCAACGAGTGCACACTTTTAGATGGGCACAAATTGTAGAGCGAttatcctcgctgtcggtcaTACTGCGTCGAATACACCGGATCTCTTCAGACCTCCGAAGTTAAGCGGCGCAAGGCCCGGTTAGTACTTGGGTGGGGGACTCCCAGGGAATACCCTCGGGTgctgacagcttttttcttccatctgcctgtgttttgtactggtggttgcaaaccatactttttctaccgatcttaccacgaacagtaatgaaacacttgcgtctcacagtatgtggcgtatatgcatgaacagttcgccctatatgcgaggaaacctgtcagcatgaatgaacggaagacgcctatgtacttacactcccccgtcttgatcatgaaagatctgttcattgtatatggctcttctgaaactatgaaaggaaaatatagcttgttgttgttattccttatcgtaccagcgtcccttttacacaaacaaaatgtctgctgccatttcgagagtctacagacaacgtggagaatgcgtgtatttgtgctgctagtgactttgatgcgtttcaccagactctttacaagaaagcaagtgatgttagtccttcattagtcagtgaaatgtgtatttttttttgtgctcgtgacttgatgtgtttccctagactggttaccagaaagccagtggaatgctagttcaaagtggaatatggtgtgtttgtatttgtgaaactgttggctttctgcttttcattggagtgtttacgagaccatgagaaaattagtgtttttcaccgcacgatggaatatatgataagggcactggagaagaactagctctgtattgtgcacctgagcttgtctctactgtttggggtggtggatggggacgggcgctcgtacgcgtggcgctcgttgtgccgtatgggaacacatgcatcatcgaaaaaaacagacggttgctcagcggtgctataggattgtcgtgtggttgtggtgcgcgtcacgaacaagtggtgttgcgccgggttggctgcacagaagtaatatcgtgcgccagatgactgatcagtgcacgatataacagacatt\n",
      "ciekawe co to {}\n"
     ]
    }
   ],
   "source": [
    "from Bio import SeqIO\n",
    "example_sequence = sequences_list[172]\n",
    "print(example_sequence)\n",
    "print(\"\\n\")\n",
    "print(example_sequence.reverse_complement())\n",
    "print(\"\\n\")\n",
    "print(example_sequence.translate())\n",
    "print(\"\\n\")\n",
    "#print(example_sequence.transcribe)\n",
    "print(\"\\n\")\n",
    "#print(example_sequence.back_transcribe())\n",
    "\n",
    "print(example_sequence.id, \"\\n\", example_sequence.description, \"\\n\", example_sequence.seq)\n",
    "\n",
    "print(\"ciekawe co to\", example_sequence.letter_annotations)\n",
    "\n",
    "#nie wolno zapisywać KAŻÐEJ sekwencji do memory bo przeciążymy memory"
   ]
  },
  {
   "cell_type": "code",
   "execution_count": 6,
   "id": "739ea6a4-ccc1-42a5-9d95-acb21ef1ed90",
   "metadata": {},
   "outputs": [
    {
     "name": "stdout",
     "output_type": "stream",
     "text": [
      "T: 19.60 12868631\n",
      "G: 22.19 14574729\n",
      "A: 19.58 12859748\n",
      "C: 22.21 14587625\n",
      "t: 4.19 2749149\n",
      "c: 3.86 2533512\n",
      "g: 3.86 2533826\n",
      "a: 4.20 2757001\n",
      "N: 0.31 205473\n"
     ]
    }
   ],
   "source": [
    "from collections import defaultdict \n",
    "from Bio import SeqIO\n",
    "\n",
    "\n",
    "recs = SeqIO.parse(\"GCA_000006565.2_TGA4_genomic.fna\", \"fasta\")\n",
    "\n",
    "count = defaultdict(int) #tworzymy obiekt z pakietu collection typu deafultdict. Będzie on przechowywał zliczenia poszczególnych nukleotydów\n",
    "for rec in recs:\n",
    "    recs = str(recs).upper()\n",
    "    for letter in rec.seq:\n",
    "        count[letter] += 1\n",
    "tot = sum(count.values())\n",
    "for letter, count in count.items(): #.items() to funkcja służąca do łatwiejszego przypisania elementów par klucz-hasło w słowniku\n",
    "    print('%s: %.2f %d' % (letter, 100. * count / tot, count))\n",
    "# %s oznacza by wydrukować letter jako string, %.2f oznaczy by wydrukować liczbę uzyskaną z działania 100*count/tot jako liczba typu float z dwoma miejscami po przecinkku. %d oznacza by wydrukować liczbę count jako liczbę całkowitą\n",
    "\n"
   ]
  },
  {
   "cell_type": "code",
   "execution_count": 1,
   "id": "0675a412-8065-4786-b310-4902f185f209",
   "metadata": {},
   "outputs": [
    {
     "ename": "NameError",
     "evalue": "name 'plt' is not defined",
     "output_type": "error",
     "traceback": [
      "\u001b[0;31m---------------------------------------------------------------------------\u001b[0m",
      "\u001b[0;31mNameError\u001b[0m                                 Traceback (most recent call last)",
      "Cell \u001b[0;32mIn[1], line 14\u001b[0m\n\u001b[1;32m     12\u001b[0m seq_length \u001b[38;5;241m=\u001b[39m \u001b[38;5;28mmax\u001b[39m(n_count\u001b[38;5;241m.\u001b[39mkeys())\n\u001b[1;32m     13\u001b[0m positions \u001b[38;5;241m=\u001b[39m \u001b[38;5;28mrange\u001b[39m(\u001b[38;5;241m1\u001b[39m, seq_length \u001b[38;5;241m+\u001b[39m\u001b[38;5;241m1\u001b[39m)\n\u001b[0;32m---> 14\u001b[0m fig, ax \u001b[38;5;241m=\u001b[39m \u001b[43mplt\u001b[49m\u001b[38;5;241m.\u001b[39msubplots(fiqsize \u001b[38;5;241m=\u001b[39m (\u001b[38;5;241m16\u001b[39m,\u001b[38;5;241m9\u001b[39m))\n\u001b[1;32m     15\u001b[0m ax\u001b[38;5;241m.\u001b[39mplot(positions, [n_count[x] \u001b[38;5;28;01mfor\u001b[39;00m x \u001b[38;5;129;01min\u001b[39;00m positions])\n\u001b[1;32m     16\u001b[0m ax\u001b[38;5;241m.\u001b[39mset_xlim(\u001b[38;5;241m1\u001b[39m, seq_length)\n",
      "\u001b[0;31mNameError\u001b[0m: name 'plt' is not defined"
     ]
    }
   ],
   "source": [
    "from collections import defaultdict \n",
    "from Bio import SeqIO\n",
    "\n",
    "recs = SeqIO.parse(\"GCA_000006565.2_TGA4_genomic.fna\", \"fasta\")\n",
    "n_count = defaultdict(int)\n",
    "for rec in recs:\n",
    "    for i, letter in enumerate(rec.seq):\n",
    "        pos = i + 1\n",
    "        if letter == \"N\":\n",
    "            n_count[pos]+= 1\n",
    "\n",
    "seq_length = max(n_count.keys())\n",
    "positions = range(1, seq_length +1)\n",
    "fig, ax = plt.subplots(fiqsize = (16,9))\n",
    "ax.plot(positions, [n_count[x] for x in positions])\n",
    "ax.set_xlim(1, seq_length)\n",
    "pass\n",
    "            "
   ]
  },
  {
   "cell_type": "code",
   "execution_count": 3,
   "id": "1ffce5b6-80e8-495c-958b-4ff3681b8c5c",
   "metadata": {},
   "outputs": [
    {
     "data": {
      "image/png": "[encoded data removed]",
      "text/plain": [
       "<Figure size 1600x900 with 1 Axes>"
      ]
     },
     "metadata": {},
     "output_type": "display_data"
    }
   ],
   "source": [
    "from collections import defaultdict\n",
    "from Bio import SeqIO\n",
    "import matplotlib.pyplot as plt\n",
    "\n",
    "recs = SeqIO.parse(\"GCA_000006565.2_TGA4_genomic.fna\", \"fasta\")\n",
    "n_count = defaultdict(int)\n",
    "\n",
    "for rec in recs:\n",
    "    for i, letter in enumerate(rec.seq):\n",
    "        pos = i + 1\n",
    "        if letter == \"N\":\n",
    "            n_count[pos] += 1\n",
    "\n",
    "seq_length = max(n_count.keys())\n",
    "positions = range(1, seq_length + 1)\n",
    "\n",
    "fig, ax = plt.subplots(figsize=(16, 9))  # Poprawa błędu w rozmiarze figury\n",
    "ax.plot(positions, [n_count[x] for x in positions])\n",
    "ax.set_xlim(1, seq_length)\n",
    "\n",
    "plt.show()  # Dodanie polecenia show() dla poprawnego wyświetlenia wykresu\n"
   ]
  },
  {
   "cell_type": "code",
   "execution_count": null,
   "id": "df222f7f-feba-4fe6-94ce-a8361de465e1",
   "metadata": {},
   "outputs": [],
   "source": [
    "#coś o nie dokońca \n",
    "jasnym dla mnie zagadnieniu: \n",
    "from Bio import SeqIO\n",
    "from collections import defaultdict\n",
    "recs = SeqIO.parse(\"GCA_000006565.2_TGA4_genomic.fna\", \"fasta\")\n",
    "count_qual = defaultdict(int) #inicjuje utworzenie zmiennej słownikowej defaultdict do której będziemy potem dodawali inne zmienne\n",
    "for rec in recs: #iterujemy po każdej sekwencji, odczycie\n",
    "    for i, qual in enumerate(rec.letter_annotations[\"phred_quality\"]): #iterujemy po każdym nukleotydzie oraz enumerate numeruje po indeksie (i)\n",
    "        if i <25: #dodatkowo .letter_annotations[\"phred_quality\"] to funkcja odnosząca się do jakości nukleotydów w sekwencji\n",
    "            continue\n",
    "        count_qual[qual] += 1\n",
    "tot = sum(count_qual.values())\n",
    "for qual, count in count_qual.items():\n",
    "    print(\"%d:, %.2f, %d\" % (qual, 100. * count / tot, count))\n"
   ]
  },
  {
   "cell_type": "code",
   "execution_count": 17,
   "id": "910ef5a1-e776-418b-bc6b-10837fa62845",
   "metadata": {},
   "outputs": [
    {
     "name": "stdout",
     "output_type": "stream",
     "text": [
      "Słowem wstępu, match parameters (pierszy x) to: \n",
      " x - parametry domyślne  - match = 1, mismatch or gap = 0  \n",
      " m - score wynik identycznych znaków - identycznosć match i mismatch? \n",
      " d - tworzy słownik zwracający wynik każdego znaku. \n",
      " c - drugie wywołanie funkcji i wywołanie wyników???\n",
      "\n",
      " \n",
      " Parametry do gap penalty (drugi x): \n",
      " x - brak kar - wartość 0 \n",
      " s - takie same kary za otwarcie i rozszerzenie gapu dla obu sekwencji \n",
      " d - sekwencje mają różnej wartości kary za otwarcie i rozszerzenie gapu \n",
      " c działa podobnie czyli nie wiem jak\n",
      "\n",
      " \n",
      " Parametry: match score = 1, mismatches =0 and gap penalty = 0\n",
      "\n",
      "[Alignment(seqA='ACCGGT', seqB='A-C-GT', score=4.0, start=0, end=6), Alignment(seqA='ACCGGT', seqB='AC--GT', score=4.0, start=0, end=6), Alignment(seqA='ACCGGT', seqB='A-CG-T', score=4.0, start=0, end=6), Alignment(seqA='ACCGGT', seqB='AC-G-T', score=4.0, start=0, end=6)]\n",
      "ACCGGT\n",
      "| | ||\n",
      "A-C-GT\n",
      "  Score=4\n",
      "\n",
      "ACCGGT\n",
      "||  ||\n",
      "AC--GT\n",
      "  Score=4\n",
      "\n",
      "ACCGGT\n",
      "| || |\n",
      "A-CG-T\n",
      "  Score=4\n",
      "\n",
      "ACCGGT\n",
      "|| | |\n",
      "AC-G-T\n",
      "  Score=4\n",
      "\n",
      "\n",
      " \n",
      " parametry teraz takie: match score = 1, mismatches =-1 and gap penalty = 0 \n",
      "\n",
      "ACCGGT\n",
      "| | ||\n",
      "A-C-GT\n",
      "  Score=8\n",
      "\n",
      "ACCGGT\n",
      "||  ||\n",
      "AC--GT\n",
      "  Score=8\n",
      "\n",
      "ACCGGT\n",
      "| || |\n",
      "A-CG-T\n",
      "  Score=8\n",
      "\n",
      "ACCGGT\n",
      "|| | |\n",
      "AC-G-T\n",
      "  Score=8\n",
      "\n",
      "\n",
      " \n",
      " parametry teraz takie: match score = 1, mismatches =0 and gap penalty = -1 \n",
      "\n",
      "ACCGGT\n",
      "||  ||\n",
      "AC--GT\n",
      "  Score=1\n",
      "\n"
     ]
    }
   ],
   "source": [
    "#Pairwise alingment\n",
    "from Bio import pairwise2\n",
    "#global - match score = 1, mismatches - and no gap penalty/ Pierwszy x w nazwie funkcji niżej znaczy o matchach a drugi o gap penalty\n",
    "print(\"Słowem wstępu, match parameters (pierszy x) to:\", \"\\n\", \"x - parametry domyślne  - match = 1, mismatch or gap = 0 \", \"\\n\", \"m - score wynik identycznych znaków - identycznosć match i mismatch?\", \"\\n\", \"d - tworzy słownik zwracający wynik każdego znaku.\" , \"\\n\", \"c - drugie wywołanie funkcji i wywołanie wyników???\")\n",
    "print(\"\\n\", \"\\n\", \"Parametry do gap penalty (drugi x):\", \"\\n\", \"x - brak kar - wartość 0\" , \"\\n\", \"s - takie same kary za otwarcie i rozszerzenie gapu dla obu sekwencji\", \"\\n\", \"d - sekwencje mają różnej wartości kary za otwarcie i rozszerzenie gapu\" , \"\\n\", \"c działa podobnie czyli nie wiem jak\")\n",
    "print(\"\\n\", \"\\n\", \"Parametry: match score = 1, mismatches =0 and gap penalty = 0\"\"\\n\")\n",
    "alignments = pairwise2.align.globalxx(\"ACCGGT\", \"ACGT\") # porównuje globalnie obie sekwencje na każdą możliwą opcję. Zamiast xx można wstawić inne parametry takie jak s d\n",
    "print(alignments)\n",
    "\n",
    "for alignment in alignments:\n",
    "    print(pairwise2.format_alignment(*alignment)) #formatuje uzyskane wcześniej alingmenty i przedstawia je w przystępnej formie\n",
    "\n",
    "\n",
    "#globalmx - match score = 1, mismatches - and no gap penalty\n",
    "print(\"\\n\", \"\\n\", \"parametry teraz takie: match score = 1, mismatches =-1 and gap penalty = 0\", \"\\n\")\n",
    "alignments = pairwise2.align.globalmx(\"ACCGGT\", \"ACGT\", match = 2, mismatch = -1) # porównuje globalnie obie sekwencje na każdą możliwą opcję. \n",
    "for alignment in alignments:\n",
    "    print(pairwise2.format_alignment(*alignment)) #formatuje uzyskane wcześniej alingmenty i przedstawia je w przystępnej formie\n",
    "\n",
    "\n",
    "#globalxs - match score = 1, mismatches = 0, opening gap = -2, extended gap = -1\n",
    "print(\"\\n\", \"\\n\", \"parametry teraz takie: match score = 1, mismatches =0 and gap penalty = -1\", \"\\n\")\n",
    "alignments = pairwise2.align.globalxs(\"ACCGGT\", \"ACGT\", open = -2, extend = -1)\n",
    "for alignment in alignments:\n",
    "    print(pairwise2.format_alignment(*alignment))"
   ]
  },
  {
   "cell_type": "code",
   "execution_count": null,
   "id": "cfe7e44e-41cf-49d5-9026-9715e9fa3dc2",
   "metadata": {},
   "outputs": [],
   "source": [
    "#alingmenty ale na podstawie określonej macierzy blosum62\n",
    "from Bio.Align import substitution_matrices\n",
    "from Bio import pairwise2\n",
    "matrix = substitution_matrices.load(\"BLOSUM62\")\n",
    "alignments = pairwise2.align.globaldx(\"KEVLA\", \"EVL\", match_dict = matrix) #fragment match_dict = matrix to zbiór w formacie słownika, który został pobrany z pakietu blosum62 (ręcznie) i daje informacji programowi do alingmentów, jak powinien się zachować \n",
    "print(\"Parametry takie: przyrównanie globalne według macierzy blosum62. d - znaczy że musimy podać do argumentu słownik jakim program będzie się kierował - czyli to wyznacza nam że jesteśmy w blosum62. Parametr x mówi o braku kar za rozpoczęcie i kontynuowaniu przerwy.\")\n",
    "for alignment in alignments: #dx: X: czyli nie dajemy żadnej kary za przerwy i rozszerzanie przerw (jak wyżej) ale d: ustalamy słownik\n",
    "    print(pairwise2.format_alignment(*alignment))\n",
    "\n",
    "print(\"\\n\",\"\\n\", \"Gdybyśmy zabrali parametr match_dict to by się wykrzaczyło\", \"\\n\", \"\\n\", \"Dlatego zabierzmy jednocześnie match_dict oraz 'd', zostanie to:\")\n",
    "#matrix = ... niepotrzebne!\n",
    "alignments = pairwise2.align.globalxx(\"KEVLA\", \"EVL\")\n",
    "for alignment in alignments:\n",
    "    print(pairwise2.format_alignment(*alignment))  #ta gwiazdka ***** *** oznacza element rozpakowania krotki lub listy w Pythonie\n",
    "    print(\"czyli macierz o standardowej punktacji, nie blosum)\")\n"
   ]
  },
  {
   "cell_type": "code",
   "execution_count": null,
   "id": "492dd94a-4b86-45c2-bb00-cab1bf5772a9",
   "metadata": {},
   "outputs": [],
   "source": [
    "from Bio import pairwise2\n",
    "from math import log\n",
    "\n",
    "print(\"Robimy ciekawą funckję - samemu będziemy określać karę za przerwy\")\n",
    "\n",
    "def gap_function(x, y): #x to pozycja w sekwencji.(musi tam być choć nie jest określona) Y to długość przerwy\n",
    "    if y == 0:\n",
    "        return 0\n",
    "    elif y == 1:\n",
    "        return -2\n",
    "    return -(2+y/4.0 + log(y)/2.0)\n",
    "\n",
    "alignments = pairwise2.align.globalmc(\"ACCCCGT\", \"ACG\", match = 5, mismatch = -4, \n",
    "                                     gap_A_fn = gap_function, gap_B_fn = gap_function)\n",
    "for alignment in alignments:\n",
    "    print(pairwise2.format_alignment(*alignment))\n",
    "print(\"Napisaliśmy funckcję która brak gapu punktuje jako neutralne ale otwarcie go już jako -2. Każda kolejna pozycja jest określona wzorem\")\n"
   ]
  },
  {
   "cell_type": "code",
   "execution_count": null,
   "id": "83c096f2-dfee-44d3-86f2-210306310354",
   "metadata": {},
   "outputs": [],
   "source": [
    "#pobawmy się teraz blastem\n",
    "from Bio.Blast import NCBIWWW\n",
    "sequence = \"\"\"gtgaacgctggcggcaggcctaacacatgcaagtcgaacggcagcacagtggtagcaataccatgggtggcgagtggcggacgggtgaggaatacatcggaatctaccttttcgtgggggataacgtagggaaac\"\"\"\n",
    "result_handle = NCBIWWW.qblast(\"blastn\", \"nt\", sequence) #\"program, np. blastp, blastn\", \"baza jaką przeszukujemy\", \"sekwencja\"\n",
    "\n",
    "from Bio.Blast import NCBIXML\n",
    "blast_records = NCBIXML.parse(result_handle)\n",
    "blast_records = list(blast_records)\n",
    "blast_records\n",
    "#chyba nie działa a w każdym razie nie odpowiada"
   ]
  },
  {
   "cell_type": "code",
   "execution_count": 59,
   "id": "fc07158d-49af-4106-8550-f84994752490",
   "metadata": {},
   "outputs": [
    {
     "name": "stdout",
     "output_type": "stream",
     "text": [
      "Obiekty typu handle służą do przechowywanie informacji czerpanych z serwisów online. By zwolnić zasoby, należy zamknąć ten obiekt komendą handle.close()\n",
      "Waga całego DNA to: 9241219.214400413\n",
      "procentowa zawartość par GC to 37.97\n"
     ]
    },
    {
     "data": {
      "text/plain": [
       "Text(0.5, 1.0, 'Nucleotide frequency')"
      ]
     },
     "execution_count": 59,
     "metadata": {},
     "output_type": "execute_result"
    },
    {
     "data": {
      "image/png": "[encoded data removed]",
      "text/plain": [
       "<Figure size 640x480 with 1 Axes>"
      ]
     },
     "metadata": {},
     "output_type": "display_data"
    }
   ],
   "source": [
    "#zabawa z covidem\n",
    "#kod pobiera dane z bazy NCBI - komunikuje się z bazą pakiet Entrez\n",
    "from Bio import Entrez, SeqIO\n",
    "Entrez.email = \"tliofebr@gmail.com\"\n",
    "handle = Entrez.efetch(db = \"nucleotide\", id = \"MN908947\", rettype = \"gb\", retmode = \"text\") # w obiekcie typu handle przechowujemy informacje pobrnae przez efetch. Database to nucleotide, potem ID ,rettype czyli format (genebank), retmote = text. \n",
    "recs = list(SeqIO.parse(handle, \"gb\"))\n",
    "handle.close()\n",
    "\n",
    "print(\"Obiekty typu handle służą do przechowywanie informacji czerpanych z serwisów online. By zwolnić zasoby, należy zamknąć ten obiekt komendą handle.close()\")\n",
    "\n",
    "recs\n",
    "covid_dna = recs[0].seq\n",
    "covid_dna\n",
    "\n",
    "from Bio.SeqUtils import molecular_weight\n",
    "print(f\"Waga całego DNA to: {molecular_weight(covid_dna)}\")\n",
    "\n",
    "from Bio.SeqUtils import GC\n",
    "print(f\"procentowa zawartość par GC to {round(GC(covid_dna),2 )}\")\n",
    "\n",
    "\n",
    "#a teraz wykres machniemy\n",
    "count_nucleotides = {\n",
    "    'A': covid_dna.count('A'),\n",
    "    'C': covid_dna.count('C'),\n",
    "    'T': covid_dna.count('T'),\n",
    "    'G': covid_dna.count('G'),\n",
    "}\n",
    "\n",
    "import matplotlib.pyplot as plt\n",
    "width = 0.5\n",
    "plt.bar(count_nucleotides.keys(), count_nucleotides.values(), width, color = ['b', 'r', 'm', 'c'])\n",
    "plt.xlabel(\"Nucleotides\")\n",
    "plt.ylabel(\"Frequency\")\n",
    "plt.title(\"Nucleotide frequency\")"
   ]
  },
  {
   "cell_type": "code",
   "execution_count": 81,
   "id": "67315a85-49b4-4b7f-942e-75d132926dd3",
   "metadata": {},
   "outputs": [
    {
     "name": "stdout",
     "output_type": "stream",
     "text": [
      "Covid19 has 9193 amino acids\n",
      "Covid19 has 775 proteins\n",
      "CTIVFKRVCGVSAARLTPCGTGTSTDVVYRAFDIYNDKVAGFAKFLKTNCCRFQEKDEDDNLIDSYFVVKRHTFSNYQHEETIYNLLKDCPAVAKHDFFKFRIDGDMVPHISRQRLTKYTMADLVYALRHFDEGNCDTLKEILVTYNCCDDDYFNKKDWYDFVENPDILRVYANLGERVRQALLKTVQFCDAMRNAGIVGVLTLDNQDLNGNWYDFGDFIQTTPGSGVPVVDSYYSLLMPILTLTRALTAESHVDTDLTKPYIKWDLLKYDFTEERLKLFDRYFKYWDQTYHPNCVNCLDDRCILHCANFNVLFSTVFPPTSFGPLVRKIFVDGVPFVVSTGYHFRELGVVHNQDVNLHSSRLSFKELLVYAADPAMHAASGNLLLDKRTTCFSVAALTNNVAFQTVKPGNFNKDFYDFAVSKGFFKEGSSVELKHFFFAQDGNAAISDYDYYRYNLPTMCDIRQLLFVVEVVDKYFDCYDGGCINANQVIVNNLDKSAGFPFNKWGKARLYYDSMSYEDQDALFAYTKRNVIPTITQMNLKYAISAKNRARTVAGVSICSTMTNRQFHQKLLKSIAATRGATVVIGTSKFYGGWHNMLKTVYSDVENPHLMGWDYPKCDRAMPNMLRIMASLVLARKHTTCCSLSHRFYRLANECAQVLSEMVMCGGSLYVKPGGTSSGDATTAYANSVFNICQAVTANVNALLSTDGNKIADKYVRNLQHRLYECLYRNRDVDTDFVNEFYAYLRKHFSMMILSDDAVVCFNSTYASQGLVASIKNFKSVLYYQNNVFMSEAKCWTETDLTKGPHEFCSQHTMLVKQGDDYVYLPYPDPSRILGAGCFVDDIVKTDGTLMIERFVSLAIDAYPLTKHPNQEYADVFHLYLQYIRKLHDELTGHMLDMYSVMLTNDNTSRYWEPEFYEAMYTPHTVLQAVGACVLCNSQTSLRCGACIRRPFLCCKCCYDHVISTSHKLVLSVNPYVCNAPGCDVTDVTQLYLGGMSYYCKSHKPPISFPLCANGQVFGLYKNTCVGSDNVTDFNAIATCDWTNAGDYILANTCTERLKLFAAETLKATEETFKLSYGIATVREVLSDRELHLSWEVGKPRPPLNRNYVFTGYRVTKNSKVQIGEYTFEKGDYGDAVVYRGTTTYKLNVGDYFVLTSHTVMPLSAPTLVPQEHYVRITGLYPTLNISDEFSSNVANYQKVGMQKYSTLQGPPGTGKSHFAIGLALYYPSARIVYTACSHAAVDALCEKALKYLPIDKCSRIIPARARVECFDKFKVNSTLEQYVFCTVNALPETTADIVVFDEISMATNYDLSVVNARLRAKHYVYIGDPAQLPAPRTLLTKGTLEPEYFNSVCRLMKTIGPDMFLGTCRRCPAEIVDTVSALVYDNKLKAHKDKSAQCFKMFYKGVITHDVSSAINRPQIGVVREFLTRNPAWRKAVFISPYNSQNAVASKILGLPTQTVDSSQGSEYDYVIFTQTTETAHSCNVNRFNVAITRAKVGILCIMSDRDLYDKLQFTSLEIPRRNVATLQAENVTGLFKDCSKVITGLHPTQAPTHLSVDTKFKTEGLCVDIPGIPKDMTYRRLISMMGFKMNYQVNGYPNMFITREEAIRHVRAWIGFDVEGCHATREAVGTNLPLQLGFSTGVNLVAVPTGYVDTPNNTDFSRVSAKPPPGDQFKHLIPLMYKGLPWNVVRIKIVQMLSDTLKNLSDRVVFVLWAHGFELTSMKYFVKIGPERTCCLCDRRATCFSTASDTYACWHHSIGFDYVYNPFMIDVQQWGFTGNLQSNHDLYCQVHGNAHVASCDAIMTRCLAVHECFVKRVDWTIEYPIIGDELKINAACRKVQHMVVKAALLADKFPVLHDIGNPKAIKCVPQADVEWKFYDAQPCSDKAYKIEELFYSYATHSDKFTDGVCLFWNCNVDRYPANSIVCRFDTRVLSNLNLPGCDGGSLYVNKHAFHTPAFDKSAFVNLKQLPFFYYSDSPCESHGKQVVSDIDYVPLKSATCITRCNLGGAVCRHHANEYRLYLDAYNMMISAGFSLWVYKQFDTYNLWNTFTRLQSLENVAFNVVNKGHFDGQQGEVPVSIINNTVYTKVDGVDVELFENKTTLPVNVAFELWAKRNIKPVPEVKILNNLGVDIAANTVIWDYKRDAPAHISTIGVCSMTDIAKKPTETICAPLTVFFDGRVDGQVDLFRNARNGVLITEGSVKGLQPSVGPKQASLNGVTLIGEAVKTQFNYYKKVDGVVQQLPETYFTQSRNLQEFKPRSQMEIDFLELAMDEFIERYKLEGYAFEHIVYGDFSHSQLGGLHLLIGLAKRFKESPFELEDFIPMDSTVKNYFITDAQTGSSKCVCSVIDLLLDDFVEIIKSQDLSVVSKVVKVTIDYTEISFMLWCKDGHVETFYPKLQSSQAWQPGVAMPNLYKMQRMLLEKCDLQNYGDSATLPKGIMMNVAKYTQLCQYLNTLTLAVPYNMRVIHFGAGSDKGVAPGTAVLRQWLPTGTLLVDSDLNDFVSDADSTLIGDCATVHTANKWDLIISDMYDPKTKNVTKENDSKEGFFTYICGFIQQKLALGGSVAIKITEHSWNADLYKLMGHFAWWTAFVTNVNASSSEAFLIGCNYLGKPREQIDGYVMHANYIFWRNTNPIQLSSYSLFDMSKFPLKLRGTAVMSLKEGQINDMILSLLSKGRLIIRENNRVVISSDVLVNN\n"
     ]
    },
    {
     "data": {
      "image/png": "[encoded data removed]",
      "text/plain": [
       "<Figure size 640x480 with 1 Axes>"
      ]
     },
     "metadata": {},
     "output_type": "display_data"
    }
   ],
   "source": [
    "#machnijmy transkrypcje i translacje\n",
    "covid_mrna = covid_dna.transcribe()\n",
    "covid_mrna\n",
    "\n",
    "covid_aa = covid_mrna.translate()\n",
    "covid_aa\n",
    "\n",
    "#wypunktujmy 10 najczęstszych aminokwasów\n",
    "from collections import Counter\n",
    "common_amino = Counter(covid_aa)\n",
    "common_amino.most_common(10) #wbudowane print()\n",
    "\n",
    "#usuńmy gwiazdkę\n",
    "del common_amino['*']\n",
    "common_amino.most_common(10) #nice\n",
    "\n",
    "#teraz plot\n",
    "width = 0.5\n",
    "import matplotlib.pyplot as plt\n",
    "\n",
    "plt.bar(common_amino.keys(), common_amino.values(), width, color = {'b', 'r', 'm', 'c'})\n",
    "plt.xlabel(\"aminoacides\")\n",
    "plt.ylabel(\"counts\")\n",
    "plt.title(\"Counts of aminoacides\")\n",
    "\n",
    "\n",
    "print(f\"Covid19 has {sum(common_amino.values())} amino acids\")\n",
    "proteins = covid_aa.split('*') #rozdziela sekwencje separatorem gwiazdkowym, ponieważ jako gwiazdkę oznaczamy kodon stop\n",
    "proteins[:5] #pokazuje pięć pierwszych aminokwasów\n",
    "print(f\"Covid19 has {len(proteins)} proteins\") \n",
    "\n",
    "for protein in proteins:\n",
    "    if len(protein)<20:\n",
    "        proteins.remove(protein)\n",
    "\n",
    "top_5_proteins = sorted(proteins, key = len)\n",
    "print(top_5_proteins[-1])\n",
    "\n",
    "\n",
    "#zapiszmy to najkrótsze białko\n",
    "with open(\"protein_seq.fasta\", \"w\") as file:\n",
    "    file.write(f\">covid protein \\n{top_5_proteins[-1]}\") #zapisałem ! działa"
   ]
  },
  {
   "cell_type": "code",
   "execution_count": null,
   "id": "ab6690dd-eeef-45d2-8336-5e31eaffdf6d",
   "metadata": {},
   "outputs": [],
   "source": [
    "#łączymy to co wyżej z NCBIWWW\n",
    "from Bio import SeqIO\n",
    "protein_seq = SeqIO.read(\"protein_seq.fasta\", \"fasta\") #wczytujemy nasz plik z poprzedniego pola\n",
    "\n",
    "from Bio.Blast import NCBIWWW\n",
    "result_handle = NCBIWWW.qblast(\"blastp\", \"pdb\", protein_seq.seq) #pdb - protein data bank. Tworzymy plik typu handle z programu blastp z bazy pdb na podstawie naszego pliku\n",
    "\n",
    "from Bio import SearchIO\n",
    "blast_records = SearchIO.read(result_handle, 'blast-xml')\n",
    "print(blast_records[0:10]) #coś oczywiście nie działa z NCBIWWW"
   ]
  },
  {
   "cell_type": "code",
   "execution_count": 4,
   "id": "26994107-7d02-4d85-a96f-7c01311e71b8",
   "metadata": {},
   "outputs": [
    {
     "name": "stdout",
     "output_type": "stream",
     "text": [
      "--2023-12-09 09:18:15--  https://files.rcsb.org/download/6YYT.pdb\n",
      "Translacja files.rcsb.org (files.rcsb.org)... 128.6.159.245\n",
      "Łączenie się z files.rcsb.org (files.rcsb.org)|128.6.159.245|:443... połączono.\n",
      "Żądanie HTTP wysłano, oczekiwanie na odpowiedź... 200 OK\n",
      "Długość: nieznana [application/octet-stream]\n",
      "Zapis do: ‘6YYT.pdb.1’\n",
      "\n",
      "6YYT.pdb.1              [    <=>             ] 954,91K  1,12MB/s    w 0,8s     \n",
      "\n",
      "2023-12-09 09:18:19 (1,12 MB/s) - zapisano ‘6YYT.pdb.1’ [977832]\n",
      "\n"
     ]
    },
    {
     "name": "stderr",
     "output_type": "stream",
     "text": [
      "/home/norbert/miniconda3/lib/python3.11/site-packages/Bio/PDB/StructureBuilder.py:89: PDBConstructionWarning: WARNING: Chain A is discontinuous at line 12059.\n",
      "  warnings.warn(\n"
     ]
    },
    {
     "data": {
      "text/plain": [
       "<Structure id=6YYT>"
      ]
     },
     "execution_count": 4,
     "metadata": {},
     "output_type": "execute_result"
    }
   ],
   "source": [
    "# Teraz wizualizacja! Korzystamy z bazy Protein Data Bank PDB - zawiera wszystko o białkach, o ich każdym atomie\n",
    "seq_id = \"pdb|6YYT|A\"\n",
    "id = seq_id.split(\"|\")[1] #wyodrębniamy ID sekwencji\n",
    "id\n",
    "\n",
    "#pobierzmy dane z serwera\n",
    "!wget https://files.rcsb.org/download/6YYT.pdb #to faktycznie działa\n",
    "#musimy przenieść się do innego okienka żeby nie pobierało pliku ponownie\n",
    "\n"
   ]
  },
  {
   "cell_type": "code",
   "execution_count": null,
   "id": "af09ebf1-66f5-480f-bdbd-84be8c98a3f4",
   "metadata": {},
   "outputs": [],
   "source": [
    "from Bio.PDB import PDBParser #Bio.PDB zajmuje się strukturami białek. PDBParser wyodrębnia lub też analizuje dane z tych plików i przekształca je w plik structure\n",
    "parser = PDBParser()\n",
    "structure = parser.get_structure(\"6YYT\", \"6YYT.pdb\")\n",
    "structure"
   ]
  },
  {
   "cell_type": "code",
   "execution_count": 5,
   "id": "a5de1265-3552-42a9-9531-f044b73e1779",
   "metadata": {},
   "outputs": [
    {
     "name": "stdout",
     "output_type": "stream",
     "text": [
      "Chain ID: A\n",
      "Chain ID: B\n",
      "Chain ID: C\n",
      "Chain ID: D\n",
      "Chain ID: P\n",
      "Chain ID: Q\n",
      "Chain ID: T\n",
      "Chain ID: U\n"
     ]
    }
   ],
   "source": [
    "for chain in structure[0]:\n",
    "    print(f\"Chain ID: {chain.id}\") #to białko covida ma 8 różnych łańcuchów"
   ]
  },
  {
   "cell_type": "code",
   "execution_count": 10,
   "id": "39760681-c8b7-429c-afe0-a8566becd75b",
   "metadata": {},
   "outputs": [
    {
     "data": {
      "application/vnd.jupyter.widget-view+json": {
       "model_id": "31a914f7df874de4bdfd72c7625e846e",
       "version_major": 2,
       "version_minor": 0
      },
      "text/plain": [
       "NGLWidget()"
      ]
     },
     "metadata": {},
     "output_type": "display_data"
    },
    {
     "data": {
      "application/vnd.jupyter.widget-view+json": {
       "model_id": "a30226fe805a4a7b8a392ac685720298",
       "version_major": 2,
       "version_minor": 0
      },
      "text/plain": [
       "Tab(children=(Box(children=(Box(children=(Box(children=(Label(value='step'), IntSlider(value=1, min=-100)), la…"
      ]
     },
     "metadata": {},
     "output_type": "display_data"
    }
   ],
   "source": [
    "import nglview as nv #pakiet ten umożliwia oglądanie struktur w 3d, ale coś nie działa\n",
    "nv.show_biopython(structure, gui = True) #gui oznacza włączenie interfejsu użytkownika ale też coś nie działa"
   ]
  },
  {
   "cell_type": "code",
   "execution_count": 41,
   "id": "74af9730-6f32-43a0-9823-a62e28ba6836",
   "metadata": {},
   "outputs": [
    {
     "name": "stdout",
     "output_type": "stream",
     "text": [
      "TACAA\n",
      "TACGC\n",
      "TACCC\n",
      "TACAC\n",
      "AACCC\n",
      "AATGC\n",
      "AATGC\n",
      "\n",
      "powstaje nam tabelka którą trzeba interpretować tak: Adenozyna na drugiej (1. bo liczymy od zera) pozycji występuje w siedmiu sekwencjach        0      1      2      3      4\n",
      "A:   3.00   7.00   0.00   2.00   1.00\n",
      "C:   0.00   0.00   5.00   2.00   6.00\n",
      "G:   0.00   0.00   0.00   3.00   0.00\n",
      "T:   4.00   0.00   2.00   0.00   0.00\n",
      "\n",
      "\n",
      " wyświetla to co wyżej ale w okrojonej formie i skupia się na adenozynie:\t[3, 7, 0, 2, 1]\n",
      "\n",
      " wyświetla jakie nukleotydy i w jakich ilościach występują na pozycji czwartej \t{'A': 2, 'C': 2, 'G': 3, 'T': 0}\n",
      "\n",
      " wyswietla na jakiej pozycji i w jakiej ilosci wystepuje tymina (bo A ma indeks 0) \t(4, 0, 2, 0, 0)\n",
      "pozycja najczęśćiej występująca - konsensusowa \t TACGC\n",
      "pozycja najrzadziej występująca - antykonsensusowa \t CCATG\n",
      "W przypadku gdy jakaś zasada występuje na danej pozycji tyle samo razy co inna zasada, musimy wprowadzić szersze pojęcie. Jako W zapisujemy A lub T oraz jako B A, C i G \t WACVC\n"
     ]
    }
   ],
   "source": [
    "#Tworzenie motywów \n",
    "from Bio import motifs\n",
    "from Bio.Seq import Seq\n",
    "instances = [\n",
    "    Seq(\"TACAA\"), \n",
    "    Seq(\"TACGC\"), \n",
    "    Seq(\"TACCC\"), \n",
    "    Seq(\"TACAC\"), \n",
    "    Seq(\"AACCC\"), \n",
    "    Seq(\"AATGC\"), \n",
    "    Seq(\"AATGC\")     \n",
    "]\n",
    "\n",
    "m = motifs.create(instances) #tworzymy obiekt klasy motifs\n",
    "print(m)\n",
    "\n",
    "print(f\"powstaje nam tabelka którą trzeba interpretować tak: Adenozyna na drugiej (1. bo liczymy od zera) pozycji występuje w siedmiu sekwencjach{m.counts}\") #\n",
    "print(f\"\\n wyświetla to co wyżej ale w okrojonej formie i skupia się na adenozynie:\\t{m.counts['A']}\") #\n",
    "print(f\"\\n wyświetla jakie nukleotydy i w jakich ilościach występują na pozycji czwartej \\t{m.counts[:, 3]}\") #wyświetla jakie nukleotydy i w jakich ilościach występują na pozycji czwartej\n",
    "print(f\"\\n wyswietla na jakiej pozycji i w jakiej ilosci wystepuje tymina (bo A ma indeks 0) \\t{m.counts[3, :]}\")\n",
    "\n",
    "print(f\"pozycja najczęśćiej występująca - konsensusowa \\t {m.consensus}\")\n",
    "print(f\"pozycja najrzadziej występująca - antykonsensusowa \\t {m.anticonsensus}\")\n",
    "print(f\"W przypadku gdy jakaś zasada występuje na danej pozycji tyle samo razy co inna zasada, musimy wprowadzić szersze pojęcie. Jako W zapisujemy A lub T oraz jako B A, C i G \\t {m.degenerate_consensus} \\t --- przydałby się manual - rozdział 14\")"
   ]
  },
  {
   "cell_type": "code",
   "execution_count": 49,
   "id": "7584e42e-bd25-4d7c-ba5f-4264e51ded79",
   "metadata": {},
   "outputs": [
    {
     "name": "stdout",
     "output_type": "stream",
     "text": [
      "--2023-12-09 10:01:11--  https://raw.githubusercontent.com/biopython/biopython/master/Doc/examples/ls_orchid.fasta\n",
      "Translacja raw.githubusercontent.com (raw.githubusercontent.com)... 185.199.109.133, 185.199.108.133, 185.199.111.133, ...\n",
      "Łączenie się z raw.githubusercontent.com (raw.githubusercontent.com)|185.199.109.133|:443... połączono.\n",
      "Żądanie HTTP wysłano, oczekiwanie na odpowiedź... 200 OK\n",
      "Długość: 76480 (75K) [text/plain]\n",
      "Zapis do: ‘ls_orchid.fasta’\n",
      "\n",
      "ls_orchid.fasta     100%[===================>]  74,69K  --.-KB/s    w 0,04s    \n",
      "\n",
      "2023-12-09 10:01:11 (1,87 MB/s) - zapisano ‘ls_orchid.fasta’ [76480/76480]\n",
      "\n"
     ]
    }
   ],
   "source": [
    "#Plotting sequence length and GC content\n",
    "\n",
    "#pobieramy dane\n",
    "!wget https://raw.githubusercontent.com/biopython/biopython/master/Doc/examples/ls_orchid.fasta\n",
    "\n",
    "from Bio import SeqIO\n",
    "sequences = []\n",
    "for seq_record in SeqIO.parse(\"ls_orchid.fasta\", \"fasta\"):\n",
    "    sequences.append(seq_record.seq) #append dobudowuje nam jedną sekwencję do drugiej tak by powstał nam cały genom? nie wiem, dluższy ciąg sekwencji"
   ]
  },
  {
   "cell_type": "code",
   "execution_count": 59,
   "id": "a7f735c3-6c49-4591-af08-0642b202e276",
   "metadata": {},
   "outputs": [
    {
     "data": {
      "image/png": "[encoded data removed]",
      "text/plain": [
       "<Figure size 640x480 with 1 Axes>"
      ]
     },
     "metadata": {},
     "output_type": "display_data"
    }
   ],
   "source": [
    "#histogram długości sekwencji\n",
    "#najpierw zróbmy pętle liczącą długość każdej sekwencji\n",
    "sizes = [len(rec) for rec in sequences]\n",
    "import matplotlib.pyplot as plt\n",
    "plt.hist(sizes, bins = 20) #sizes czyli ox x, bins na ile słupków zostanie podzielony ten wykres #szczegółowość. Na Y mamy liczebność tych sekwencji w danym zakresie\n",
    "plt.title(f\"{len(sizes)} orchid sequences \\n Lengths {min(sizes)} to {max(sizes)}\")\n",
    "plt.xlabel(\"Sequence length (bp)\")\n",
    "plt.ylabel(\"Count\")\n",
    "plt.show()"
   ]
  },
  {
   "cell_type": "code",
   "execution_count": 68,
   "id": "9a40bd32-b742-4dd1-9035-6572131936e1",
   "metadata": {},
   "outputs": [
    {
     "data": {
      "text/plain": [
       "Text(0, 0.5, 'GC%')"
      ]
     },
     "execution_count": 68,
     "metadata": {},
     "output_type": "execute_result"
    },
    {
     "data": {
      "image/png": "[encoded data removed]",
      "text/plain": [
       "<Figure size 640x480 with 1 Axes>"
      ]
     },
     "metadata": {},
     "output_type": "display_data"
    }
   ],
   "source": [
    "#wykres zawartośći par GC\n",
    "from Bio.SeqUtils import GC\n",
    "gc_values = sorted(GC(rec) for rec in sequences) #nie dość że dla każdego rekordu oblicza zawartość par GC to jeszcze to sortuje\n",
    "\n",
    "plt.plot(gc_values)\n",
    "plt.title(f\"{len(gc_values)} orchid sequences\\nGC%% {round(min(gc_values), 2)} to {round(max(gc_values), 2)}\")\n",
    "plt.xlabel(\"Genes\")\n",
    "plt.ylabel(\"GC%\")\n"
   ]
  },
  {
   "cell_type": "code",
   "execution_count": 69,
   "id": "e2c37728-c36e-4d36-a020-03f9605c58b8",
   "metadata": {},
   "outputs": [
    {
     "name": "stdout",
     "output_type": "stream",
     "text": [
      "--2023-12-09 10:21:53--  ftp://ftp.sra.ebi.ac.uk/vol1/fastq/SRR494/SRR494102/SRR494102.fastq.gz\n",
      "           => ‘SRR494102.fastq.gz’\n",
      "Translacja ftp.sra.ebi.ac.uk (ftp.sra.ebi.ac.uk)... 193.62.193.165\n",
      "Łączenie się z ftp.sra.ebi.ac.uk (ftp.sra.ebi.ac.uk)|193.62.193.165|:21... połączono.\n",
      "Logowanie się jako anonymous ... Zalogowano się!\n",
      "==> SYST ... zrobiono.    ==> PWD ... zrobiono.\n",
      "==> TYPE I ... zrobiono.  ==> CWD (1) /vol1/fastq/SRR494/SRR494102 ... zrobiono.\n",
      "==> SIZE SRR494102.fastq.gz ... 606078059\n",
      "==> PASV ... zrobiono.    ==> RETR SRR494102.fastq.gz ... zrobiono.\n",
      "Długość: 606078059 (578M) (nie autorytatywne)\n",
      "\n",
      "SRR494102.fastq.gz  100%[===================>] 578,00M  68,2MB/s    w 9,0s     \n",
      "\n",
      "2023-12-09 10:22:03 (64,2 MB/s) - zapisano ‘SRR494102.fastq.gz’ [606078059]\n",
      "\n"
     ]
    }
   ],
   "source": [
    "\n",
    "#Zabawa z dużymi pplikami - ten to 1GB!\n",
    "\n",
    "\n",
    "!wget ftp://ftp.sra.ebi.ac.uk/vol1/fastq/SRR494/SRR494102/SRR494102.fastq.gz\n",
    "\n"
   ]
  },
  {
   "cell_type": "code",
   "execution_count": 70,
   "id": "aca8ae3d-71f3-4009-ac78-5cf3a26130af",
   "metadata": {},
   "outputs": [],
   "source": [
    "#musimy go otworzyć, wypakować\n",
    "!gzip -d SRR494102.fastq.gz"
   ]
  },
  {
   "cell_type": "code",
   "execution_count": 72,
   "id": "cc62623c-2718-4d5d-a900-ed8f9bb12c42",
   "metadata": {},
   "outputs": [],
   "source": [
    "from Bio import SeqIO\n",
    "fq_dict = SeqIO.index(\"SRR494102.fastq\", \"fastq\") #index pozwala nam zaglądać do wielkich plików po ich nazwach, wtedy gdy nie chcemy iterować z powodu za dużych rozmiarów\n"
   ]
  },
  {
   "cell_type": "code",
   "execution_count": 77,
   "id": "7fed258c-9d47-46e9-a23c-50ee811cf984",
   "metadata": {},
   "outputs": [
    {
     "data": {
      "text/plain": [
       "Seq('AGCAACCACCATGACCACCCCTTCACCAACCACCAC')"
      ]
     },
     "execution_count": 77,
     "metadata": {},
     "output_type": "execute_result"
    }
   ],
   "source": [
    "#sprawdźmy długość tego słownika\n",
    "len(fq_dict)\n",
    "list(fq_dict.keys())[:5]\n",
    "\n",
    "fq_dict[\"SRR494102.20000\"].seq #właśnie pobraliśmy 20 000 sekwencję z kolei\n"
   ]
  },
  {
   "cell_type": "code",
   "execution_count": 81,
   "id": "27fd54d3-ed42-45d8-b599-b619d9d1c2f7",
   "metadata": {},
   "outputs": [
    {
     "name": "stdout",
     "output_type": "stream",
     "text": [
      "740\n",
      "753\n",
      "748\n",
      "744\n",
      "733\n",
      "718\n",
      "730\n",
      "704\n",
      "740\n",
      "709\n",
      "700\n",
      "726\n",
      "753\n",
      "699\n",
      "658\n",
      "752\n",
      "726\n",
      "765\n",
      "755\n",
      "742\n",
      "762\n",
      "745\n",
      "750\n",
      "731\n",
      "741\n",
      "740\n",
      "727\n",
      "711\n",
      "743\n",
      "727\n",
      "757\n",
      "770\n",
      "767\n",
      "759\n",
      "750\n",
      "788\n",
      "774\n",
      "789\n",
      "688\n",
      "719\n",
      "743\n",
      "737\n",
      "728\n",
      "740\n",
      "696\n",
      "732\n",
      "731\n",
      "735\n",
      "720\n",
      "740\n",
      "629\n",
      "572\n",
      "587\n",
      "700\n",
      "636\n",
      "716\n",
      "592\n",
      "716\n",
      "733\n",
      "626\n",
      "737\n",
      "740\n",
      "574\n",
      "594\n",
      "610\n",
      "730\n",
      "641\n",
      "702\n",
      "733\n",
      "738\n",
      "736\n",
      "732\n",
      "745\n",
      "744\n",
      "738\n",
      "739\n",
      "740\n",
      "745\n",
      "695\n",
      "745\n",
      "743\n",
      "730\n",
      "706\n",
      "744\n",
      "742\n",
      "694\n",
      "712\n",
      "715\n",
      "688\n",
      "784\n",
      "721\n",
      "703\n",
      "744\n",
      "592\n"
     ]
    }
   ],
   "source": [
    "#zabawa z mniejszymi plikami fasta\n",
    "records = list(SeqIO.parse(\"ls_orchid.fasta\", \"fasta\"))\n",
    "for record in records:\n",
    "    print(len(record))\n",
    "    #możęmy tak zrobić bo ten plik jest niewielki\n",
    "    "
   ]
  },
  {
   "cell_type": "code",
   "execution_count": 83,
   "id": "76d8cbf4-d65f-4e11-a71c-893af93d059e",
   "metadata": {},
   "outputs": [],
   "source": [
    "#posortujemy je\n",
    "records.sort(key = lambda r: (len(r))) #sortowanie rosnąćo. malejąco jest tak: -len(r)\n",
    "#lambda to anonimowa funkcja dziąłająca tylko chwilowo. Przyjmuje argument r i podaje go dalej. Funkcja Key potrzebuje jakiegoś wejścia, innej funkcji"
   ]
  },
  {
   "cell_type": "code",
   "execution_count": 88,
   "id": "89b28123-4692-42d5-aef9-b19b5d908264",
   "metadata": {},
   "outputs": [
    {
     "data": {
      "text/plain": [
       "[(572, 'gi|2765606|emb|Z78481.1|PIZ78481'),\n",
       " (574, 'gi|2765595|emb|Z78470.1|PPZ78470'),\n",
       " (587, 'gi|2765605|emb|Z78480.1|PGZ78480'),\n",
       " (592, 'gi|2765564|emb|Z78439.1|PBZ78439'),\n",
       " (592, 'gi|2765601|emb|Z78476.1|PGZ78476'),\n",
       " (594, 'gi|2765594|emb|Z78469.1|PHZ78469'),\n",
       " (610, 'gi|2765593|emb|Z78468.1|PAZ78468'),\n",
       " (626, 'gi|2765598|emb|Z78473.1|PSZ78473'),\n",
       " (629, 'gi|2765607|emb|Z78482.1|PEZ78482'),\n",
       " (636, 'gi|2765603|emb|Z78478.1|PVZ78478'),\n",
       " (641, 'gi|2765591|emb|Z78466.1|PPZ78466'),\n",
       " (658, 'gi|2765643|emb|Z78518.1|CRZ78518'),\n",
       " (688, 'gi|2765569|emb|Z78444.1|PAZ78444'),\n",
       " (688, 'gi|2765619|emb|Z78494.1|PNZ78494'),\n",
       " (694, 'gi|2765572|emb|Z78447.1|PVZ78447'),\n",
       " (695, 'gi|2765579|emb|Z78454.1|PFZ78454'),\n",
       " (696, 'gi|2765613|emb|Z78488.1|PTZ78488'),\n",
       " (699, 'gi|2765644|emb|Z78519.1|CPZ78519'),\n",
       " (700, 'gi|2765604|emb|Z78479.1|PPZ78479'),\n",
       " (700, 'gi|2765647|emb|Z78522.1|CMZ78522'),\n",
       " (702, 'gi|2765590|emb|Z78465.1|PRZ78465'),\n",
       " (703, 'gi|2765566|emb|Z78441.1|PSZ78441'),\n",
       " (704, 'gi|2765650|emb|Z78525.1|CAZ78525'),\n",
       " (706, 'gi|2765575|emb|Z78450.1|PPZ78450'),\n",
       " (709, 'gi|2765648|emb|Z78523.1|CHZ78523'),\n",
       " (711, 'gi|2765630|emb|Z78505.1|PSZ78505'),\n",
       " (712, 'gi|2765571|emb|Z78446.1|PAZ78446'),\n",
       " (715, 'gi|2765570|emb|Z78445.1|PUZ78445'),\n",
       " (716, 'gi|2765600|emb|Z78475.1|PSZ78475'),\n",
       " (716, 'gi|2765602|emb|Z78477.1|PVZ78477'),\n",
       " (718, 'gi|2765652|emb|Z78527.1|CYZ78527'),\n",
       " (719, 'gi|2765618|emb|Z78493.1|PGZ78493'),\n",
       " (720, 'gi|2765609|emb|Z78484.1|PCZ78484'),\n",
       " (721, 'gi|2765567|emb|Z78442.1|PBZ78442'),\n",
       " (726, 'gi|2765641|emb|Z78516.1|CPZ78516'),\n",
       " (726, 'gi|2765646|emb|Z78521.1|CCZ78521'),\n",
       " (727, 'gi|2765628|emb|Z78503.1|PCZ78503'),\n",
       " (727, 'gi|2765631|emb|Z78506.1|PLZ78506'),\n",
       " (728, 'gi|2765615|emb|Z78490.1|PFZ78490'),\n",
       " (730, 'gi|2765576|emb|Z78451.1|PHZ78451'),\n",
       " (730, 'gi|2765592|emb|Z78467.1|PSZ78467'),\n",
       " (730, 'gi|2765651|emb|Z78526.1|CGZ78526'),\n",
       " (731, 'gi|2765611|emb|Z78486.1|PBZ78486'),\n",
       " (731, 'gi|2765634|emb|Z78509.1|PPZ78509'),\n",
       " (732, 'gi|2765586|emb|Z78461.1|PWZ78461'),\n",
       " (732, 'gi|2765612|emb|Z78487.1|PHZ78487'),\n",
       " (733, 'gi|2765589|emb|Z78464.1|PGZ78464'),\n",
       " (733, 'gi|2765599|emb|Z78474.1|PKZ78474'),\n",
       " (733, 'gi|2765654|emb|Z78529.1|CLZ78529'),\n",
       " (735, 'gi|2765610|emb|Z78485.1|PHZ78485'),\n",
       " (736, 'gi|2765587|emb|Z78462.1|PSZ78462'),\n",
       " (737, 'gi|2765597|emb|Z78472.1|PLZ78472'),\n",
       " (737, 'gi|2765616|emb|Z78491.1|PCZ78491'),\n",
       " (738, 'gi|2765583|emb|Z78458.1|PHZ78458'),\n",
       " (738, 'gi|2765588|emb|Z78463.1|PGZ78463'),\n",
       " (739, 'gi|2765582|emb|Z78457.1|PCZ78457'),\n",
       " (740, 'gi|2765581|emb|Z78456.1|PTZ78456'),\n",
       " (740, 'gi|2765596|emb|Z78471.1|PDZ78471'),\n",
       " (740, 'gi|2765608|emb|Z78483.1|PVZ78483'),\n",
       " (740, 'gi|2765614|emb|Z78489.1|PDZ78489'),\n",
       " (740, 'gi|2765632|emb|Z78507.1|PLZ78507'),\n",
       " (740, 'gi|2765649|emb|Z78524.1|CFZ78524'),\n",
       " (740, 'gi|2765658|emb|Z78533.1|CIZ78533'),\n",
       " (741, 'gi|2765633|emb|Z78508.1|PLZ78508'),\n",
       " (742, 'gi|2765573|emb|Z78448.1|PAZ78448'),\n",
       " (742, 'gi|2765638|emb|Z78513.1|PBZ78513'),\n",
       " (743, 'gi|2765577|emb|Z78452.1|PBZ78452'),\n",
       " (743, 'gi|2765617|emb|Z78492.1|PBZ78492'),\n",
       " (743, 'gi|2765629|emb|Z78504.1|PKZ78504'),\n",
       " (744, 'gi|2765565|emb|Z78440.1|PPZ78440'),\n",
       " (744, 'gi|2765574|emb|Z78449.1|PMZ78449'),\n",
       " (744, 'gi|2765584|emb|Z78459.1|PDZ78459'),\n",
       " (744, 'gi|2765655|emb|Z78530.1|CMZ78530'),\n",
       " (745, 'gi|2765578|emb|Z78453.1|PSZ78453'),\n",
       " (745, 'gi|2765580|emb|Z78455.1|PJZ78455'),\n",
       " (745, 'gi|2765585|emb|Z78460.1|PCZ78460'),\n",
       " (745, 'gi|2765636|emb|Z78511.1|PEZ78511'),\n",
       " (748, 'gi|2765656|emb|Z78531.1|CFZ78531'),\n",
       " (750, 'gi|2765623|emb|Z78498.1|PMZ78498'),\n",
       " (750, 'gi|2765635|emb|Z78510.1|PCZ78510'),\n",
       " (752, 'gi|2765642|emb|Z78517.1|CFZ78517'),\n",
       " (753, 'gi|2765645|emb|Z78520.1|CSZ78520'),\n",
       " (753, 'gi|2765657|emb|Z78532.1|CCZ78532'),\n",
       " (755, 'gi|2765639|emb|Z78514.1|PSZ78514'),\n",
       " (757, 'gi|2765627|emb|Z78502.1|PBZ78502'),\n",
       " (759, 'gi|2765624|emb|Z78499.1|PMZ78499'),\n",
       " (762, 'gi|2765637|emb|Z78512.1|PWZ78512'),\n",
       " (765, 'gi|2765640|emb|Z78515.1|MXZ78515'),\n",
       " (767, 'gi|2765625|emb|Z78500.1|PWZ78500'),\n",
       " (770, 'gi|2765626|emb|Z78501.1|PCZ78501'),\n",
       " (774, 'gi|2765621|emb|Z78496.1|PAZ78496'),\n",
       " (784, 'gi|2765568|emb|Z78443.1|PLZ78443'),\n",
       " (788, 'gi|2765622|emb|Z78497.1|PDZ78497'),\n",
       " (789, 'gi|2765620|emb|Z78495.1|PEZ78495')]"
      ]
     },
     "execution_count": 88,
     "metadata": {},
     "output_type": "execute_result"
    }
   ],
   "source": [
    "#sortujemy tak duże pliki:\n",
    "len_and_ids = sorted(\n",
    "    (len(rec), rec.id) for rec in SeqIO.parse(\"ls_orchid.fasta\", \"fasta\")\n",
    ") #dla każdego rec w SeqIO.... wypisz dlugosc i id\n",
    "len_and_ids\n",
    "\n",
    "\n"
   ]
  },
  {
   "cell_type": "code",
   "execution_count": 89,
   "id": "2a82bf81-d0b8-4207-b496-bdf199c6ce5b",
   "metadata": {},
   "outputs": [],
   "source": [
    "ids = reversed([id for (length, id) in len_and_ids]) # reverse for descending order (from longest seq to smallest)\n",
    "ids\n",
    "del len_and_ids # zwolnimy z pamięci żeby nie zaśmiecać"
   ]
  },
  {
   "cell_type": "code",
   "execution_count": 91,
   "id": "52cbcb3e-f6d6-406f-875a-25929a90e0d9",
   "metadata": {},
   "outputs": [
    {
     "data": {
      "text/plain": [
       "94"
      ]
     },
     "execution_count": 91,
     "metadata": {},
     "output_type": "execute_result"
    }
   ],
   "source": [
    "record_index = SeqIO.index(\"ls_orchid.fasta\", \"fasta\") #indeksuhemy do sprawniejszego poruszania się\n",
    "\n",
    "\n",
    "# grab sequence from indexed dict by sorted id\n",
    "records = (record_index[id] for id in ids) \n",
    "SeqIO.write(records, \"sorted.fasta\", \"fasta\")\n",
    "\n"
   ]
  },
  {
   "cell_type": "code",
   "execution_count": null,
   "id": "0a78d80b-aa51-4c8c-86bb-5e4021c651c3",
   "metadata": {},
   "outputs": [],
   "source": []
  }
 ],
 "metadata": {
  "kernelspec": {
   "display_name": "Python 3 (ipykernel)",
   "language": "python",
   "name": "python3"
  },
  "language_info": {
   "codemirror_mode": {
    "name": "ipython",
    "version": 3
   },
   "file_extension": ".py",
   "mimetype": "text/x-python",
   "name": "python",
   "nbconvert_exporter": "python",
   "pygments_lexer": "ipython3",
   "version": "3.11.6"
  }
 },
 "nbformat": 4,
 "nbformat_minor": 5
}
